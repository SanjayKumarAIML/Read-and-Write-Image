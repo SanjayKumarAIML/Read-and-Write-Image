{
 "cells": [
  {
   "cell_type": "code",
   "execution_count": 1,
   "id": "73b29303-3c2b-417c-bfcd-352b69c4aa3e",
   "metadata": {},
   "outputs": [],
   "source": [
    "import cv2"
   ]
  },
  {
   "cell_type": "code",
   "execution_count": 5,
   "id": "fd0d85d0-3d93-44dd-ae8e-b7600359be7a",
   "metadata": {},
   "outputs": [],
   "source": [
    "img = cv2.imread(\"zoro.png\")\n",
    "cv2.imshow(\"read_pic\",img)\n",
    "cv2.waitKey(0)\n",
    "cv2.destroyAllWindows()"
   ]
  },
  {
   "cell_type": "code",
   "execution_count": 6,
   "id": "0a154316-dea9-4e2c-bbb3-2e1580a21688",
   "metadata": {},
   "outputs": [
    {
     "data": {
      "text/plain": [
       "True"
      ]
     },
     "execution_count": 6,
     "metadata": {},
     "output_type": "execute_result"
    }
   ],
   "source": [
    "cv2.imwrite(\"write_pic.png\",img)"
   ]
  },
  {
   "cell_type": "code",
   "execution_count": 7,
   "id": "b5b8e910-cb57-42e2-be1d-b9de9b2a1c5b",
   "metadata": {},
   "outputs": [
    {
     "name": "stdout",
     "output_type": "stream",
     "text": [
      "(1152, 1920, 3)\n"
     ]
    }
   ],
   "source": [
    "print(img.shape)"
   ]
  },
  {
   "cell_type": "code",
   "execution_count": 7,
   "id": "597f2208-929b-43b5-9e9d-37d85783a36b",
   "metadata": {},
   "outputs": [],
   "source": [
    "img = cv2.imread(\"zoro.png\")\n",
    "for i in range(350,400):\n",
    "    for j in range(800,1100):\n",
    "        img[i][j] = [104, 104, 104]\n",
    "cv2.imshow(\"row_pic.png\",img)\n",
    "cv2.waitKey(0)\n",
    "cv2.destroyAllWindows()"
   ]
  },
  {
   "cell_type": "code",
   "execution_count": 2,
   "id": "156cbff5-fd53-42d7-a0e1-7a07f9cf214f",
   "metadata": {},
   "outputs": [],
   "source": [
    "img = cv2.imread(\"zoro.png\")\n",
    "img[700:1000,600:900] = img[300:600,1100:1400]\n",
    "cv2.imshow(\"cut_pic.png\",img)\n",
    "cv2.waitKey(0)\n",
    "cv2.destroyAllWindows()"
   ]
  },
  {
   "cell_type": "code",
   "execution_count": null,
   "id": "8c144a9c-4908-4b4a-81b5-1e9e48f5a665",
   "metadata": {},
   "outputs": [],
   "source": []
  }
 ],
 "metadata": {
  "kernelspec": {
   "display_name": "Python 3 (ipykernel)",
   "language": "python",
   "name": "python3"
  },
  "language_info": {
   "codemirror_mode": {
    "name": "ipython",
    "version": 3
   },
   "file_extension": ".py",
   "mimetype": "text/x-python",
   "name": "python",
   "nbconvert_exporter": "python",
   "pygments_lexer": "ipython3",
   "version": "3.9.13"
  }
 },
 "nbformat": 4,
 "nbformat_minor": 5
}
